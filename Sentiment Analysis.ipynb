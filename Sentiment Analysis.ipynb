{
 "cells": [
  {
   "cell_type": "code",
   "execution_count": 411,
   "metadata": {
    "scrolled": true
   },
   "outputs": [],
   "source": [
    "                # import numpy as np\n",
    "import pandas as pd\n",
    "# import re, nltk, spacy\n",
    "# # import re \n",
    "# # import tweepy \n",
    "# # from tweepy import OAuthHandler \n",
    "from textblob import TextBlob \n",
    "# # f=open(\"en.txt\",\"rt\")\n",
    "# # g=open(\"sampleEN.txt\",\"w+\")\n",
    "# # f1=f.readlines()\n",
    "# # searchFor=(\",\")\n",
    "# # replaceWith=(\"\")\n",
    "# # for line in f1:\n",
    "# #     tweetId=line[0:19]\n",
    "# #     g.write(tweetId.replace(\",\",\" \"))\n",
    "# #     g.write(\",\"+line[20:].replace(\",\",\" \"))\n",
    "\n",
    "# # f.close()\n",
    "# # g.close()"
   ]
  },
  {
   "cell_type": "code",
   "execution_count": 412,
   "metadata": {},
   "outputs": [],
   "source": [
    "def clean_tweet(tweet): \n",
    "        return ' '.join(re.sub(\"(@[A-Za-z0-9]+)|([^0-9A-Za-z \\t])|(\\w+:\\/\\/\\S+)\", \" \", tweet).split()) "
   ]
  },
  {
   "cell_type": "code",
   "execution_count": 413,
   "metadata": {},
   "outputs": [],
   "source": [
    "def getSentiment(tweet):\n",
    "    analysis=TextBlob(tweet)\n",
    "    if analysis.sentiment.polarity>0:\n",
    "        return 'positive'\n",
    "    elif analysis.sentiment.polarity==0:\n",
    "        return 'neutral'\n",
    "    else:\n",
    "        return 'negative'\n",
    "\n",
    "# print(len(sentiments))"
   ]
  },
  {
   "cell_type": "code",
   "execution_count": 1,
   "metadata": {
    "scrolled": false
   },
   "outputs": [
    {
     "ename": "NameError",
     "evalue": "name 'data_list' is not defined",
     "output_type": "error",
     "traceback": [
      "\u001b[1;31m---------------------------------------------------------------------------\u001b[0m",
      "\u001b[1;31mNameError\u001b[0m                                 Traceback (most recent call last)",
      "\u001b[1;32m<ipython-input-1-5f74f535c3c5>\u001b[0m in \u001b[0;36m<module>\u001b[1;34m\u001b[0m\n\u001b[0;32m      7\u001b[0m     \u001b[1;31m#data_list = json.load(json_file)\u001b[0m\u001b[1;33m\u001b[0m\u001b[1;33m\u001b[0m\u001b[1;33m\u001b[0m\u001b[0m\n\u001b[0;32m      8\u001b[0m \u001b[1;31m#     #print(data_list)\u001b[0m\u001b[1;33m\u001b[0m\u001b[1;33m\u001b[0m\u001b[1;33m\u001b[0m\u001b[0m\n\u001b[1;32m----> 9\u001b[1;33m \u001b[0mprint\u001b[0m\u001b[1;33m(\u001b[0m\u001b[0mlen\u001b[0m\u001b[1;33m(\u001b[0m\u001b[0mdata_list\u001b[0m\u001b[1;33m)\u001b[0m\u001b[1;33m)\u001b[0m\u001b[1;33m\u001b[0m\u001b[1;33m\u001b[0m\u001b[0m\n\u001b[0m\u001b[0;32m     10\u001b[0m \u001b[1;33m\u001b[0m\u001b[0m\n\u001b[0;32m     11\u001b[0m \u001b[0msentiments\u001b[0m\u001b[1;33m=\u001b[0m\u001b[1;33m[\u001b[0m\u001b[1;33m]\u001b[0m\u001b[1;33m\u001b[0m\u001b[1;33m\u001b[0m\u001b[0m\n",
      "\u001b[1;31mNameError\u001b[0m: name 'data_list' is not defined"
     ]
    }
   ],
   "source": [
    "import json\n",
    "import pandas as pd\n",
    "from googletrans import Translator\n",
    "from translate import Translator\n",
    "\n",
    "#with open(r'C:\\Users\\Bhargava\\Desktop\\IRProject4\\tweets\\Topicchanges\\updated\\Countrywiseupdated\\INDIA\\original\\amitshah_tweets.json',encoding=\"utf8\") as json_file:\n",
    "    #data_list = json.load(json_file)\n",
    "#     #print(data_list)\n",
    "print(len(data_list))\n",
    "\n",
    "sentiments=[]\n",
    "\n",
    "translator = Translator()\n",
    "\n",
    "for i in range(len(data_list)):\n",
    "    #Storing the text object\n",
    "    tweet_obj=data_list[i]\n",
    "    #print(tweet_obj['text'])\n",
    "    \n",
    "    translated_text=translator.translate(tweet_obj['text']).text;\n",
    "    \n",
    "    #Passing the text and cleaning\n",
    "    cleaned_text=clean_tweet('text')\n",
    "    #print(cleaned_text)\n",
    "    \n",
    "    #Getting the sentiment of the tweet text\n",
    "    sentiment=getSentiment(tweet_obj['text'])\n",
    "    #print(sentiment)\n",
    "    \n",
    "    data_list[i]['sentiment']=sentiment\n",
    "    #print(datalist[i]['sentiment'])\n",
    "\n",
    "# with open(r\"C:\\Users\\Bhargava\\Desktop\\IRProject4\\tweets\\Topicchanges\\updated\\test\\sentimentcompletedtweets\\kamalaharris_tweets.json\", \"w\") as write_file:\n",
    "#     json.dump(data_list, write_file)"
   ]
  },
  {
   "cell_type": "code",
   "execution_count": null,
   "metadata": {},
   "outputs": [],
   "source": []
  }
 ],
 "metadata": {
  "kernelspec": {
   "display_name": "Python 3",
   "language": "python",
   "name": "python3"
  },
  "language_info": {
   "codemirror_mode": {
    "name": "ipython",
    "version": 3
   },
   "file_extension": ".py",
   "mimetype": "text/x-python",
   "name": "python",
   "nbconvert_exporter": "python",
   "pygments_lexer": "ipython3",
   "version": "3.7.1"
  }
 },
 "nbformat": 4,
 "nbformat_minor": 2
}
